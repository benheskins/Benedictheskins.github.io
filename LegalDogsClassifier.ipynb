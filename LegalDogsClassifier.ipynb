{
  "nbformat": 4,
  "nbformat_minor": 0,
  "metadata": {
    "colab": {
      "name": "LegalDogsClassifier.ipynb",
      "provenance": [],
      "collapsed_sections": [],
      "toc_visible": true,
      "authorship_tag": "ABX9TyNgdWatbtXnCJ4IKy/hB1nj",
      "include_colab_link": true
    },
    "kernelspec": {
      "name": "python3",
      "display_name": "Python 3"
    }
  },
  "cells": [
    {
      "cell_type": "markdown",
      "metadata": {
        "id": "view-in-github",
        "colab_type": "text"
      },
      "source": [
        "<a href=\"https://colab.research.google.com/github/benheskins/Benedictheskins.github.io/blob/master/LegalDogsClassifier.ipynb\" target=\"_parent\"><img src=\"https://colab.research.google.com/assets/colab-badge.svg\" alt=\"Open In Colab\"/></a>"
      ]
    },
    {
      "cell_type": "markdown",
      "metadata": {
        "id": "dP1DEwTrY-Vo"
      },
      "source": [
        "# UFCFSN-15-3 - Artificial intelligence for creative technologies\n",
        "Week 5\n",
        "\n",
        "\n",
        "\n",
        "\n",
        "Benedict Heskins\n",
        "\n",
        "17022914"
      ]
    },
    {
      "cell_type": "markdown",
      "metadata": {
        "id": "9gmtizeyMZ9x"
      },
      "source": [
        "https://towardsdatascience.com/google-colab-import-and-export-datasets-eccf801e2971\n",
        "\n",
        "https://www.youtube.com/watch?v=n4mxwSAWvo8"
      ]
    },
    {
      "cell_type": "code",
      "metadata": {
        "id": "EUn_pQD8KbFq"
      },
      "source": [
        "import os\n",
        "import cv2\n",
        "import tensorflow as tf\n",
        "import math\n",
        "import numpy as np\n",
        "import matplotlib.pyplot as plt\n",
        "from tensorflow.keras.datasets import mnist\n",
        "from tensorflow.keras.models import Sequential\n",
        "from tensorflow.keras.utils import to_categorical\n",
        "\n",
        "import tensorflow_hub as hub\n",
        "import tensorflow_datasets as tfds\n",
        "\n",
        "import logging\n",
        "\n",
        "logger = tf.get_logger()\n",
        "logger.setLevel(logging.ERROR)\n"
      ],
      "execution_count": null,
      "outputs": []
    },
    {
      "cell_type": "code",
      "metadata": {
        "id": "sy2LANrUsxZV"
      },
      "source": [
        "\n",
        "from tensorflow.keras.layers import Dense, Conv2D, Flatten, Dropout, MaxPooling2D\n",
        "from tensorflow.keras.preprocessing.image import ImageDataGenerator\n"
      ],
      "execution_count": null,
      "outputs": []
    },
    {
      "cell_type": "code",
      "metadata": {
        "id": "u9eKBPnhBINV"
      },
      "source": [
        "!pip install -U -q PyDrive\n",
        "from pydrive.auth import GoogleAuth\n",
        "from pydrive.drive import GoogleDrive\n",
        "from google.colab import auth\n",
        "from oauth2client.client import GoogleCredentials"
      ],
      "execution_count": null,
      "outputs": []
    },
    {
      "cell_type": "code",
      "metadata": {
        "id": "vFBtICZ9DeP9"
      },
      "source": [
        "auth.authenticate_user()\n",
        "gauth = GoogleAuth()\n",
        "gauth.credentials = GoogleCredentials.get_application_default()\n",
        "drive = GoogleDrive(gauth)"
      ],
      "execution_count": null,
      "outputs": []
    },
    {
      "cell_type": "code",
      "metadata": {
        "id": "z4hsPYuWDpbR",
        "colab": {
          "base_uri": "https://localhost:8080/"
        },
        "outputId": "2edf6cdb-99f4-41c2-fa49-5cd8df4005d1"
      },
      "source": [
        "fid = drive.ListFile({'q':\"title='dogs_dataset.zip'\"}).GetList()[0]['id']\n",
        "f = drive.CreateFile({'id': fid})\n",
        "f.GetContentFile('dogs_dataset.zip')\n",
        "f.keys()"
      ],
      "execution_count": null,
      "outputs": [
        {
          "output_type": "execute_result",
          "data": {
            "text/plain": [
              "dict_keys(['id', 'kind', 'etag', 'selfLink', 'webContentLink', 'alternateLink', 'embedLink', 'iconLink', 'title', 'mimeType', 'labels', 'copyRequiresWriterPermission', 'createdDate', 'modifiedDate', 'modifiedByMeDate', 'lastViewedByMeDate', 'markedViewedByMeDate', 'version', 'parents', 'downloadUrl', 'userPermission', 'originalFilename', 'fileExtension', 'md5Checksum', 'fileSize', 'quotaBytesUsed', 'ownerNames', 'owners', 'lastModifyingUserName', 'lastModifyingUser', 'capabilities', 'editable', 'copyable', 'writersCanShare', 'shared', 'explicitlyTrashed', 'appDataContents', 'headRevisionId', 'spaces'])"
            ]
          },
          "metadata": {
            "tags": []
          },
          "execution_count": 5
        }
      ]
    },
    {
      "cell_type": "code",
      "metadata": {
        "id": "5L1UJoysFMB-",
        "colab": {
          "base_uri": "https://localhost:8080/"
        },
        "outputId": "fcc9d361-4564-475a-c656-a4ad9be54d5e"
      },
      "source": [
        "!unzip dogs_dataset.zip"
      ],
      "execution_count": null,
      "outputs": [
        {
          "output_type": "stream",
          "text": [
            "Archive:  dogs_dataset.zip\n",
            "replace dogs_dataset/test/illegal/american-bulldog-breed-pictures-1.jpg? [y]es, [n]o, [A]ll, [N]one, [r]ename: "
          ],
          "name": "stdout"
        }
      ]
    },
    {
      "cell_type": "code",
      "metadata": {
        "id": "w-K2E6KCIy0t"
      },
      "source": [
        "\n",
        "class CollectBatchStats(tf.keras.callbacks.Callback):\n",
        "    def __init__(self):\n",
        "        self.batch_losses = []\n",
        "        self.batch_acc = []\n",
        "\n",
        "    def on_train_batch_end(self, batch, logs=None):\n",
        "        self.batch_losses.append(logs['loss'])\n",
        "        self.batch_acc.append(logs['acc'])\n",
        "        self.model.reset_metrics()\n",
        "\n",
        "\n",
        "batch_stats_callback = CollectBatchStats()\n",
        "\n",
        "\n",
        "\n",
        "\n"
      ],
      "execution_count": null,
      "outputs": []
    },
    {
      "cell_type": "code",
      "metadata": {
        "id": "_Y_yZVZuxoIR"
      },
      "source": [
        "PATH = 'dogs_dataset'"
      ],
      "execution_count": null,
      "outputs": []
    },
    {
      "cell_type": "code",
      "metadata": {
        "id": "1x3wF6CBZZTb",
        "colab": {
          "base_uri": "https://localhost:8080/"
        },
        "outputId": "56967d8e-cb05-4623-8b86-46639c86f107"
      },
      "source": [
        "os.listdir(PATH)\n"
      ],
      "execution_count": null,
      "outputs": [
        {
          "output_type": "execute_result",
          "data": {
            "text/plain": [
              "['train', 'test']"
            ]
          },
          "metadata": {
            "tags": []
          },
          "execution_count": 51
        }
      ]
    },
    {
      "cell_type": "code",
      "metadata": {
        "id": "xFC8EOaIZgvO"
      },
      "source": [
        "train_dir = os.path.join(PATH,'train')\n",
        "test_dir = os.path.join(PATH, 'test')"
      ],
      "execution_count": null,
      "outputs": []
    },
    {
      "cell_type": "code",
      "metadata": {
        "id": "txKPjReuwSoE"
      },
      "source": [
        "train_legal_dir = os.path.join(train_dir,\n",
        "                                'legal')\n",
        "train_illegal_dir = os.path.join(train_dir,\n",
        "                                   'illegal')\n",
        "\n",
        "test_legal_dir = os.path.join(test_dir,\n",
        "                               'legal')\n",
        "test_illegal_dir = os.path.join(test_dir,\n",
        "                                  'illegal')\n"
      ],
      "execution_count": null,
      "outputs": []
    },
    {
      "cell_type": "code",
      "metadata": {
        "id": "FDdGjdkKw3ew"
      },
      "source": [
        "total_train = len(os.listdir(train_illegal_dir)) + len(os.listdir(train_legal_dir))\n",
        "total_test = len(os.listdir(test_illegal_dir)) + len(os.listdir(test_legal_dir))"
      ],
      "execution_count": null,
      "outputs": []
    },
    {
      "cell_type": "code",
      "metadata": {
        "id": "g4GGzGt0VrV7",
        "colab": {
          "base_uri": "https://localhost:8080/"
        },
        "outputId": "0665793f-530c-46f1-b2cd-95858a86f852"
      },
      "source": [
        "print('total training illegal dog images:', len(os.listdir(train_illegal_dir)))\n",
        "print('total training legal dog images:', len(os.listdir(train_legal_dir)))\n",
        "\n",
        "print('total test illegal dog images:', len(os.listdir(test_illegal_dir)))\n",
        "print('total test legal dog images:', len(os.listdir(test_legal_dir)))\n",
        "print(\"--\")\n",
        "print(\"Total training images:\", total_train)\n",
        "print(\"Total validation images:\", total_test)"
      ],
      "execution_count": null,
      "outputs": [
        {
          "output_type": "stream",
          "text": [
            "total training illegal dog images: 587\n",
            "total training legal dog images: 693\n",
            "total test illegal dog images: 64\n",
            "total test legal dog images: 75\n",
            "--\n",
            "Total training images: 1280\n",
            "Total validation images: 139\n"
          ],
          "name": "stdout"
        }
      ]
    },
    {
      "cell_type": "code",
      "metadata": {
        "id": "WsFuhjDcPU7-"
      },
      "source": [
        "# configuration\n",
        "image_width = 224\n",
        "image_height = 224\n",
        "batch_size = 32\n",
        "epochs = 6\n",
        "\n",
        "\n",
        "# variables\n",
        "num_classes = 0\n",
        "dataset = []\n",
        "labels = []\n"
      ],
      "execution_count": null,
      "outputs": []
    },
    {
      "cell_type": "code",
      "metadata": {
        "colab": {
          "base_uri": "https://localhost:8080/"
        },
        "id": "mRqndZ9nIb4r",
        "outputId": "948e837e-a962-4e79-8614-483f2ceb8f44"
      },
      "source": [
        "\n",
        "# training dataset\n",
        "train_ds = tf.keras.preprocessing.image_dataset_from_directory(\n",
        "    train_dir,\n",
        "    image_size=(image_height, image_width),\n",
        "    batch_size=batch_size)\n",
        "\n",
        "\n",
        "# validation dataset (used during training)\n",
        "val_ds = tf.keras.preprocessing.image_dataset_from_directory(\n",
        "    test_dir,\n",
        "    image_size=(image_height, image_height),\n",
        "    batch_size=batch_size)"
      ],
      "execution_count": null,
      "outputs": [
        {
          "output_type": "stream",
          "text": [
            "Found 1280 files belonging to 2 classes.\n",
            "Found 139 files belonging to 2 classes.\n"
          ],
          "name": "stdout"
        }
      ]
    },
    {
      "cell_type": "code",
      "metadata": {
        "id": "15G6H4faMUv0"
      },
      "source": [
        "# load class names\n",
        "class_names = np.array(train_ds.class_names)\n",
        "num_classes = len(class_names)\n",
        "\n",
        "\n",
        "# show example images\n",
        "plt.figure(figsize=(10, 10))\n",
        "for images, labels in train_ds.take(1):\n",
        "    for i in range(9):\n",
        "        ax = plt.subplot(3, 3, i + 1)\n",
        "        plt.imshow(images[i].numpy().astype(\"uint8\"))\n",
        "        plt.title(class_names[labels[i]])\n",
        "        plt.axis(\"off\")\n",
        "plt.show()"
      ],
      "execution_count": null,
      "outputs": []
    },
    {
      "cell_type": "code",
      "metadata": {
        "id": "qIj54EDWJB5P"
      },
      "source": [
        "\n",
        "\n",
        "# data augmentation\n",
        "data_augmentation = tf.keras.Sequential([\n",
        "    tf.keras.layers.experimental.preprocessing.RandomFlip(\"horizontal\"),\n",
        "    tf.keras.layers.experimental.preprocessing.RandomRotation(0.1),\n",
        "    tf.keras.layers.experimental.preprocessing.RandomZoom(0.1)\n",
        "])\n",
        "\n",
        "\n",
        "# normalization layer\n",
        "normalization_layer = tf.keras.Sequential([\n",
        "    tf.keras.layers.experimental.preprocessing.Resizing(image_height, image_width),\n",
        "    tf.keras.layers.experimental.preprocessing.Rescaling(1. / 255)\n",
        "])\n",
        "\n",
        "\n",
        "# prepare training dataset\n",
        "AUTOTUNE = tf.data.AUTOTUNE\n",
        "train_ds = train_ds.map(lambda x, y: (normalization_layer(x), y))\n",
        "train_ds = train_ds.map(lambda x, y: (data_augmentation(x, training=True), y),\n",
        "                        num_parallel_calls=AUTOTUNE)\n",
        "\n",
        "\n",
        "# normalize validation and test datasets\n",
        "val_ds = val_ds.map(lambda x, y: (normalization_layer(x), y))\n",
        "\n"
      ],
      "execution_count": null,
      "outputs": []
    },
    {
      "cell_type": "markdown",
      "metadata": {
        "id": "Q9al9A7BVZTe"
      },
      "source": [
        " Transfer learning"
      ]
    },
    {
      "cell_type": "code",
      "metadata": {
        "id": "5wB030nezBwI"
      },
      "source": [
        "URL = \"https://tfhub.dev/google/tf2-preview/mobilenet_v2/feature_vector/4\"\n",
        "feature_extractor = hub.KerasLayer(URL,\n",
        "                                   input_shape=(image_width, image_height, 3))"
      ],
      "execution_count": null,
      "outputs": []
    },
    {
      "cell_type": "code",
      "metadata": {
        "id": "Jg5ar6rcE4H-"
      },
      "source": [
        "feature_extractor.trainable = False"
      ],
      "execution_count": null,
      "outputs": []
    },
    {
      "cell_type": "markdown",
      "metadata": {
        "id": "H1nJGWcNIXvx"
      },
      "source": [
        "## Training the model"
      ]
    },
    {
      "cell_type": "code",
      "metadata": {
        "id": "mGcY27fY1q3Q",
        "colab": {
          "base_uri": "https://localhost:8080/"
        },
        "outputId": "25b6b7fd-620a-4600-89c4-78444f677e76"
      },
      "source": [
        "model = tf.keras.Sequential([\n",
        "    feature_extractor,\n",
        "    tf.keras.layers.Dense(2)\n",
        "])\n",
        "\n",
        "model.summary()"
      ],
      "execution_count": null,
      "outputs": [
        {
          "output_type": "stream",
          "text": [
            "Model: \"sequential_8\"\n",
            "_________________________________________________________________\n",
            "Layer (type)                 Output Shape              Param #   \n",
            "=================================================================\n",
            "keras_layer_2 (KerasLayer)   (None, 1280)              2257984   \n",
            "_________________________________________________________________\n",
            "dense (Dense)                (None, 2)                 2562      \n",
            "=================================================================\n",
            "Total params: 2,260,546\n",
            "Trainable params: 2,562\n",
            "Non-trainable params: 2,257,984\n",
            "_________________________________________________________________\n"
          ],
          "name": "stdout"
        }
      ]
    },
    {
      "cell_type": "code",
      "metadata": {
        "id": "zjyzqwt7Il9d"
      },
      "source": [
        "num_legal_train = len(os.listdir(train_legal_dir))\n",
        "num_illegal_train = len(os.listdir(train_illegal_dir))\n",
        "\n",
        "\n",
        "num_legal_test = len(os.listdir(test_legal_dir))\n",
        "num_illegal_test = len(os.listdir(test_illegal_dir))\n",
        "\n",
        "\n",
        "total_train = num_legal_train + num_illegal_train \n",
        "total_test = num_legal_test + num_illegal_test "
      ],
      "execution_count": null,
      "outputs": []
    },
    {
      "cell_type": "code",
      "metadata": {
        "id": "3n0Wb9ylKd8R"
      },
      "source": [
        "model.compile(\n",
        "  optimizer='adam',\n",
        "  loss=tf.keras.losses.SparseCategoricalCrossentropy(from_logits=True),\n",
        "  metrics=['acc'])\n"
      ],
      "execution_count": null,
      "outputs": []
    },
    {
      "cell_type": "code",
      "metadata": {
        "id": "eZAVEnFxITd1",
        "colab": {
          "base_uri": "https://localhost:8080/"
        },
        "outputId": "1ee53120-c395-4e54-edd5-922ff0dba9d0"
      },
      "source": [
        "\n",
        "history = model.fit(train_ds, epochs=epochs,\n",
        "                    validation_data=val_ds,\n",
        "                    callbacks=[batch_stats_callback])\n",
        "\n"
      ],
      "execution_count": null,
      "outputs": [
        {
          "output_type": "stream",
          "text": [
            "Epoch 1/6\n",
            "40/40 [==============================] - 74s 2s/step - loss: 0.4287 - acc: 0.8003 - val_loss: 0.2087 - val_acc: 0.9424\n",
            "Epoch 2/6\n",
            "40/40 [==============================] - 70s 2s/step - loss: 0.2367 - acc: 0.9055 - val_loss: 0.1794 - val_acc: 0.9424\n",
            "Epoch 3/6\n",
            "40/40 [==============================] - 70s 2s/step - loss: 0.2173 - acc: 0.9131 - val_loss: 0.2119 - val_acc: 0.9353\n",
            "Epoch 4/6\n",
            "40/40 [==============================] - 72s 2s/step - loss: 0.1767 - acc: 0.9291 - val_loss: 0.1955 - val_acc: 0.9424\n",
            "Epoch 5/6\n",
            "40/40 [==============================] - 71s 2s/step - loss: 0.1689 - acc: 0.9314 - val_loss: 0.1792 - val_acc: 0.9496\n",
            "Epoch 6/6\n",
            "40/40 [==============================] - 72s 2s/step - loss: 0.1697 - acc: 0.9314 - val_loss: 0.1868 - val_acc: 0.9568\n"
          ],
          "name": "stdout"
        }
      ]
    },
    {
      "cell_type": "code",
      "metadata": {
        "id": "fvi8s1kGO8t-",
        "colab": {
          "base_uri": "https://localhost:8080/",
          "height": 1000
        },
        "outputId": "89c25fae-304c-452e-c477-f3f494b40626"
      },
      "source": [
        "\n",
        "\n",
        "# Plot batch metrics\n",
        "plt.figure()\n",
        "plt.ylabel(\"Loss\")\n",
        "plt.xlabel(\"Training Steps\")\n",
        "plt.ylim([0, 2])\n",
        "plt.plot(batch_stats_callback.batch_losses)\n",
        "plt.show()\n",
        "\n",
        "plt.figure()\n",
        "plt.ylabel(\"Accuracy\")\n",
        "plt.xlabel(\"Training Steps\")\n",
        "plt.ylim([0, 1])\n",
        "plt.plot(batch_stats_callback.batch_acc)\n",
        "plt.show()\n",
        "\n",
        "\n",
        "# plot the training history\n",
        "acc = history.history['acc']\n",
        "val_acc = history.history['val_acc']\n",
        "\n",
        "loss = history.history['loss']\n",
        "val_loss = history.history['val_loss']\n",
        "\n",
        "epochs_range = range(epochs)\n",
        "\n",
        "plt.figure(figsize=(8, 8))\n",
        "plt.subplot(1, 2, 1)\n",
        "plt.plot(epochs_range, acc, label='Training Accuracy')\n",
        "plt.plot(epochs_range, val_acc, label='Validation Accuracy')\n",
        "plt.legend(loc='lower right')\n",
        "plt.title('Training and Validation Accuracy')\n",
        "\n",
        "plt.subplot(1, 2, 2)\n",
        "plt.plot(epochs_range, loss, label='Training Loss')\n",
        "plt.plot(epochs_range, val_loss, label='Validation Loss')\n",
        "plt.legend(loc='upper right')\n",
        "plt.title('Training and Validation Loss')\n",
        "plt.show()\n"
      ],
      "execution_count": null,
      "outputs": [
        {
          "output_type": "display_data",
          "data": {
            "image/png": "[encoded data removed]",
            "text/plain": [
              "<Figure size 432x288 with 1 Axes>"
            ]
          },
          "metadata": {
            "tags": [],
            "needs_background": "light"
          }
        },
        {
          "output_type": "display_data",
          "data": {
            "image/png": "[encoded data removed]",
            "text/plain": [
              "<Figure size 432x288 with 1 Axes>"
            ]
          },
          "metadata": {
            "tags": [],
            "needs_background": "light"
          }
        },
        {
          "output_type": "display_data",
          "data": {
            "image/png": "[encoded data removed]",
            "text/plain": [
              "<Figure size 576x576 with 2 Axes>"
            ]
          },
          "metadata": {
            "tags": [],
            "needs_background": "light"
          }
        }
      ]
    },
    {
      "cell_type": "code",
      "metadata": {
        "id": "VflXLEeECaXC"
      },
      "source": [
        "test_loss, test_accuracy = model.evaluate(test_data_gen, steps=math.ceil(total_test/32))\n",
        "print('Accuracy on test dataset:', test_accuracy)"
      ],
      "execution_count": null,
      "outputs": []
    }
  ]
}